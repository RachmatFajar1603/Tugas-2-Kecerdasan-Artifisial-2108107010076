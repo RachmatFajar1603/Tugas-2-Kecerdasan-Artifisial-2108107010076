{
 "cells": [
  {
   "cell_type": "code",
   "execution_count": 1,
   "metadata": {},
   "outputs": [
    {
     "name": "stdout",
     "output_type": "stream",
     "text": [
      "WARNING:tensorflow:From c:\\Users\\ASUS\\AppData\\Local\\Programs\\Python\\Python311\\Lib\\site-packages\\keras-2.15.0-py3.11.egg\\keras\\src\\losses.py:2976: The name tf.losses.sparse_softmax_cross_entropy is deprecated. Please use tf.compat.v1.losses.sparse_softmax_cross_entropy instead.\n",
      "\n"
     ]
    }
   ],
   "source": [
    "import tensorflow as tf\n",
    "import os\n",
    "from keras.preprocessing.image import ImageDataGenerator\n",
    "from tensorflow.keras.optimizers import RMSprop\n",
    "from tensorflow.keras.applications.inception_resnet_v2 import InceptionResNetV2, preprocess_input\n",
    "from tensorflow.keras.layers import Dropout, BatchNormalization\n",
    "from tensorflow.keras.callbacks import EarlyStopping\n",
    "from tensorflow.keras import layers, models\n",
    "from tensorflow.keras.callbacks import TensorBoard\n",
    "import datetime"
   ]
  },
  {
   "cell_type": "code",
   "execution_count": 2,
   "metadata": {},
   "outputs": [],
   "source": [
    "# Create a TensorBoard callback\n",
    "log_dir = \"logs/fit/\" + datetime.datetime.now().strftime(\"%Y%m%d-%H%M%S\")  # Adjust the log directory as needed\n",
    "tensorboard_callback = TensorBoard(log_dir=log_dir, histogram_freq=1)"
   ]
  },
  {
   "cell_type": "code",
   "execution_count": 3,
   "metadata": {},
   "outputs": [
    {
     "name": "stdout",
     "output_type": "stream",
     "text": [
      "Found 294 images belonging to 2 classes.\n",
      "Found 147 images belonging to 2 classes.\n"
     ]
    }
   ],
   "source": [
    "TRAINING_DIR = '/SEMESTER 5/MATERI KULIAH SEMESTER 5/AI/2108107010076-Tugas2/tomatoApple/train/'\n",
    "train_datagen = ImageDataGenerator(\n",
    "                    rescale=1./255,\n",
    "                    rotation_range=20,\n",
    "                    horizontal_flip=True,\n",
    "                    shear_range = 0.2,\n",
    "                    fill_mode = 'nearest',\n",
    "                    validation_split=0.4)\n",
    "  # Normalize pixel values between 0 and 1\n",
    "\n",
    "# Load training data\n",
    "train_generator = train_datagen.flow_from_directory(\n",
    "    TRAINING_DIR,\n",
    "    target_size=(150, 150),  # Resize images to 150x150\n",
    "    batch_size=5,\n",
    "    class_mode='binary'\n",
    "    )\n",
    "\n",
    "        \n",
    "VALIDATION_DIR = '/SEMESTER 5/MATERI KULIAH SEMESTER 5/AI/2108107010076-Tugas2/tomatoApple/test/'\n",
    "validation_datagen = ImageDataGenerator(rescale=1.0/255.0)  # Normalize pixel values between 0 and 1\n",
    "\n",
    "# Load validation data\n",
    "validation_generator = validation_datagen.flow_from_directory(\n",
    "VALIDATION_DIR,\n",
    "target_size=(150, 150),  # Resize images to 150x150\n",
    "batch_size=5,\n",
    "class_mode='binary')"
   ]
  },
  {
   "cell_type": "code",
   "execution_count": 4,
   "metadata": {},
   "outputs": [
    {
     "name": "stdout",
     "output_type": "stream",
     "text": [
      "WARNING:tensorflow:From c:\\Users\\ASUS\\AppData\\Local\\Programs\\Python\\Python311\\Lib\\site-packages\\keras-2.15.0-py3.11.egg\\keras\\src\\backend.py:873: The name tf.get_default_graph is deprecated. Please use tf.compat.v1.get_default_graph instead.\n",
      "\n",
      "WARNING:tensorflow:From c:\\Users\\ASUS\\AppData\\Local\\Programs\\Python\\Python311\\Lib\\site-packages\\keras-2.15.0-py3.11.egg\\keras\\src\\layers\\pooling\\max_pooling2d.py:161: The name tf.nn.max_pool is deprecated. Please use tf.nn.max_pool2d instead.\n",
      "\n"
     ]
    }
   ],
   "source": [
    "model = tf.keras.models.Sequential([\n",
    "\n",
    "    # Convolutional Layers\n",
    "    tf.keras.layers.Conv2D(32, (3,3), activation='relu', input_shape=(150, 150, 3)), # 3 = RGB\n",
    "    tf.keras.layers.MaxPooling2D(2, 2), # Pooling Layer\n",
    "    tf.keras.layers.Conv2D(64, (3,3), activation='relu'),\n",
    "    tf.keras.layers.MaxPooling2D(2,2), # Pooling Layer\n",
    "    tf.keras.layers.Conv2D(128, (3,3), activation='relu'),\n",
    "    tf.keras.layers.MaxPooling2D(2,2), # Pooling Layer\n",
    "    tf.keras.layers.Conv2D(128, (3,3), activation='relu'),\n",
    "    tf.keras.layers.MaxPooling2D(2,2), # Pooling Layer\n",
    "\n",
    "    \n",
    "\n",
    "    # from 2D to 1D (Flatten)\n",
    "    tf.keras.layers.Flatten(),\n",
    "   \n",
    "\n",
    "    # Fully Connected Layers\n",
    "    tf.keras.layers.Dense(512, activation='relu'),\n",
    "    \n",
    "\n",
    "    # Output Layer (Tomato vs Apples) Berarti hanya 2 kelas\n",
    "    tf.keras.layers.Dense(1, activation='sigmoid')\n",
    "   \n",
    "\n",
    "\n",
    "    ])"
   ]
  },
  {
   "cell_type": "code",
   "execution_count": 5,
   "metadata": {},
   "outputs": [
    {
     "name": "stdout",
     "output_type": "stream",
     "text": [
      "Model: \"sequential\"\n",
      "_________________________________________________________________\n",
      " Layer (type)                Output Shape              Param #   \n",
      "=================================================================\n",
      " conv2d (Conv2D)             (None, 148, 148, 32)      896       \n",
      "                                                                 \n",
      " max_pooling2d (MaxPooling2  (None, 74, 74, 32)        0         \n",
      " D)                                                              \n",
      "                                                                 \n",
      " conv2d_1 (Conv2D)           (None, 72, 72, 64)        18496     \n",
      "                                                                 \n",
      " max_pooling2d_1 (MaxPoolin  (None, 36, 36, 64)        0         \n",
      " g2D)                                                            \n",
      "                                                                 \n",
      " conv2d_2 (Conv2D)           (None, 34, 34, 128)       73856     \n",
      "                                                                 \n",
      " max_pooling2d_2 (MaxPoolin  (None, 17, 17, 128)       0         \n",
      " g2D)                                                            \n",
      "                                                                 \n",
      " conv2d_3 (Conv2D)           (None, 15, 15, 128)       147584    \n",
      "                                                                 \n",
      " max_pooling2d_3 (MaxPoolin  (None, 7, 7, 128)         0         \n",
      " g2D)                                                            \n",
      "                                                                 \n",
      " flatten (Flatten)           (None, 6272)              0         \n",
      "                                                                 \n",
      " dense (Dense)               (None, 512)               3211776   \n",
      "                                                                 \n",
      " dense_1 (Dense)             (None, 1)                 513       \n",
      "                                                                 \n",
      "=================================================================\n",
      "Total params: 3453121 (13.17 MB)\n",
      "Trainable params: 3453121 (13.17 MB)\n",
      "Non-trainable params: 0 (0.00 Byte)\n",
      "_________________________________________________________________\n"
     ]
    }
   ],
   "source": [
    "model.summary()"
   ]
  },
  {
   "cell_type": "code",
   "execution_count": 6,
   "metadata": {},
   "outputs": [
    {
     "name": "stderr",
     "output_type": "stream",
     "text": [
      "WARNING:absl:`lr` is deprecated in Keras optimizer, please use `learning_rate` or use the legacy optimizer, e.g.,tf.keras.optimizers.legacy.RMSprop.\n"
     ]
    },
    {
     "name": "stdout",
     "output_type": "stream",
     "text": [
      "Epoch 1/50\n",
      "WARNING:tensorflow:From c:\\Users\\ASUS\\AppData\\Local\\Programs\\Python\\Python311\\Lib\\site-packages\\keras-2.15.0-py3.11.egg\\keras\\src\\utils\\tf_utils.py:492: The name tf.ragged.RaggedTensorValue is deprecated. Please use tf.compat.v1.ragged.RaggedTensorValue instead.\n",
      "\n"
     ]
    },
    {
     "name": "stderr",
     "output_type": "stream",
     "text": [
      "WARNING:tensorflow:From c:\\Users\\ASUS\\AppData\\Local\\Programs\\Python\\Python311\\Lib\\site-packages\\keras-2.15.0-py3.11.egg\\keras\\src\\utils\\tf_utils.py:492: The name tf.ragged.RaggedTensorValue is deprecated. Please use tf.compat.v1.ragged.RaggedTensorValue instead.\n",
      "\n"
     ]
    },
    {
     "name": "stdout",
     "output_type": "stream",
     "text": [
      "WARNING:tensorflow:From c:\\Users\\ASUS\\AppData\\Local\\Programs\\Python\\Python311\\Lib\\site-packages\\keras-2.15.0-py3.11.egg\\keras\\src\\engine\\base_layer_utils.py:384: The name tf.executing_eagerly_outside_functions is deprecated. Please use tf.compat.v1.executing_eagerly_outside_functions instead.\n",
      "\n"
     ]
    },
    {
     "name": "stderr",
     "output_type": "stream",
     "text": [
      "WARNING:tensorflow:From c:\\Users\\ASUS\\AppData\\Local\\Programs\\Python\\Python311\\Lib\\site-packages\\keras-2.15.0-py3.11.egg\\keras\\src\\engine\\base_layer_utils.py:384: The name tf.executing_eagerly_outside_functions is deprecated. Please use tf.compat.v1.executing_eagerly_outside_functions instead.\n",
      "\n"
     ]
    },
    {
     "name": "stdout",
     "output_type": "stream",
     "text": [
      "59/59 [==============================] - 13s 185ms/step - loss: 0.7806 - accuracy: 0.5510 - val_loss: 0.6785 - val_accuracy: 0.6871\n",
      "Epoch 2/50\n",
      "59/59 [==============================] - 9s 141ms/step - loss: 0.7125 - accuracy: 0.5850 - val_loss: 0.6273 - val_accuracy: 0.7279\n",
      "Epoch 3/50\n",
      "59/59 [==============================] - 9s 152ms/step - loss: 0.6636 - accuracy: 0.6361 - val_loss: 0.5905 - val_accuracy: 0.7211\n",
      "Epoch 4/50\n",
      "59/59 [==============================] - 9s 148ms/step - loss: 0.6468 - accuracy: 0.6871 - val_loss: 0.5279 - val_accuracy: 0.7619\n",
      "Epoch 5/50\n",
      "59/59 [==============================] - 9s 144ms/step - loss: 0.6176 - accuracy: 0.6837 - val_loss: 0.6897 - val_accuracy: 0.6054\n",
      "Epoch 6/50\n",
      "59/59 [==============================] - 8s 138ms/step - loss: 0.5643 - accuracy: 0.7279 - val_loss: 0.6029 - val_accuracy: 0.6939\n",
      "Epoch 7/50\n",
      "59/59 [==============================] - 8s 138ms/step - loss: 0.5600 - accuracy: 0.7245 - val_loss: 0.6750 - val_accuracy: 0.7823\n",
      "Epoch 8/50\n",
      "59/59 [==============================] - 8s 135ms/step - loss: 0.5785 - accuracy: 0.7109 - val_loss: 0.5630 - val_accuracy: 0.6803\n",
      "Epoch 9/50\n",
      "59/59 [==============================] - 8s 132ms/step - loss: 0.5420 - accuracy: 0.7313 - val_loss: 0.4575 - val_accuracy: 0.8095\n",
      "Epoch 10/50\n",
      "59/59 [==============================] - 9s 146ms/step - loss: 0.5317 - accuracy: 0.7415 - val_loss: 0.4471 - val_accuracy: 0.8163\n",
      "Epoch 11/50\n",
      "59/59 [==============================] - 9s 143ms/step - loss: 0.4695 - accuracy: 0.7993 - val_loss: 0.3482 - val_accuracy: 0.8367\n",
      "Epoch 12/50\n",
      "59/59 [==============================] - 8s 140ms/step - loss: 0.5086 - accuracy: 0.7585 - val_loss: 0.4096 - val_accuracy: 0.8027\n",
      "Epoch 13/50\n",
      "59/59 [==============================] - 8s 136ms/step - loss: 0.4509 - accuracy: 0.7925 - val_loss: 0.3747 - val_accuracy: 0.8299\n",
      "Epoch 14/50\n",
      "59/59 [==============================] - 8s 141ms/step - loss: 0.4777 - accuracy: 0.7925 - val_loss: 0.5408 - val_accuracy: 0.6463\n",
      "Epoch 15/50\n",
      "59/59 [==============================] - 8s 136ms/step - loss: 0.4307 - accuracy: 0.8163 - val_loss: 0.4654 - val_accuracy: 0.7755\n",
      "Epoch 16/50\n",
      "59/59 [==============================] - 9s 151ms/step - loss: 0.3698 - accuracy: 0.8333 - val_loss: 0.3722 - val_accuracy: 0.8163\n",
      "Epoch 17/50\n",
      "59/59 [==============================] - 8s 139ms/step - loss: 0.3915 - accuracy: 0.8231 - val_loss: 0.2556 - val_accuracy: 0.8639\n",
      "Epoch 18/50\n",
      "59/59 [==============================] - 8s 134ms/step - loss: 0.4602 - accuracy: 0.8333 - val_loss: 0.2154 - val_accuracy: 0.9184\n",
      "Epoch 19/50\n",
      "59/59 [==============================] - 8s 138ms/step - loss: 0.4070 - accuracy: 0.8367 - val_loss: 0.2854 - val_accuracy: 0.8639\n",
      "Epoch 20/50\n",
      "59/59 [==============================] - 8s 136ms/step - loss: 0.3604 - accuracy: 0.8469 - val_loss: 0.3105 - val_accuracy: 0.8639\n",
      "Epoch 21/50\n",
      "59/59 [==============================] - 8s 135ms/step - loss: 0.3210 - accuracy: 0.8605 - val_loss: 0.7267 - val_accuracy: 0.7143\n",
      "Epoch 22/50\n",
      "59/59 [==============================] - 8s 138ms/step - loss: 0.3209 - accuracy: 0.8776 - val_loss: 0.2160 - val_accuracy: 0.9252\n",
      "Epoch 23/50\n",
      "59/59 [==============================] - 8s 140ms/step - loss: 0.3136 - accuracy: 0.8844 - val_loss: 0.2009 - val_accuracy: 0.9388\n",
      "Epoch 24/50\n",
      "59/59 [==============================] - 8s 137ms/step - loss: 0.2170 - accuracy: 0.9014 - val_loss: 0.1566 - val_accuracy: 0.9320\n",
      "Epoch 25/50\n",
      "59/59 [==============================] - 8s 141ms/step - loss: 0.2683 - accuracy: 0.8810 - val_loss: 0.2687 - val_accuracy: 0.8367\n",
      "Epoch 26/50\n",
      "59/59 [==============================] - 8s 140ms/step - loss: 0.2093 - accuracy: 0.9082 - val_loss: 0.1843 - val_accuracy: 0.9388\n",
      "Epoch 27/50\n",
      "59/59 [==============================] - 8s 138ms/step - loss: 0.2241 - accuracy: 0.9218 - val_loss: 0.1553 - val_accuracy: 0.9456\n",
      "Epoch 28/50\n",
      "59/59 [==============================] - 9s 148ms/step - loss: 0.3016 - accuracy: 0.8980 - val_loss: 0.0841 - val_accuracy: 0.9592\n",
      "Epoch 29/50\n",
      "59/59 [==============================] - 9s 147ms/step - loss: 0.1815 - accuracy: 0.9218 - val_loss: 0.2497 - val_accuracy: 0.9184\n",
      "Epoch 30/50\n",
      "59/59 [==============================] - 8s 139ms/step - loss: 0.2351 - accuracy: 0.9354 - val_loss: 0.4164 - val_accuracy: 0.8776\n",
      "Epoch 31/50\n",
      "59/59 [==============================] - 8s 138ms/step - loss: 0.2547 - accuracy: 0.9252 - val_loss: 0.0829 - val_accuracy: 0.9796\n",
      "Epoch 32/50\n",
      "59/59 [==============================] - 8s 138ms/step - loss: 0.1652 - accuracy: 0.9388 - val_loss: 0.0747 - val_accuracy: 0.9660\n",
      "Epoch 33/50\n",
      "59/59 [==============================] - 8s 139ms/step - loss: 0.2029 - accuracy: 0.9558 - val_loss: 0.1662 - val_accuracy: 0.9524\n",
      "Epoch 34/50\n",
      "59/59 [==============================] - 8s 139ms/step - loss: 0.1597 - accuracy: 0.9422 - val_loss: 0.1230 - val_accuracy: 0.9388\n",
      "Epoch 35/50\n",
      "59/59 [==============================] - 8s 138ms/step - loss: 0.1496 - accuracy: 0.9524 - val_loss: 0.2283 - val_accuracy: 0.9456\n",
      "Epoch 36/50\n",
      "59/59 [==============================] - 8s 142ms/step - loss: 0.1819 - accuracy: 0.9388 - val_loss: 0.0672 - val_accuracy: 0.9796\n",
      "Epoch 37/50\n",
      "59/59 [==============================] - 8s 134ms/step - loss: 0.1546 - accuracy: 0.9490 - val_loss: 0.1363 - val_accuracy: 0.9388\n",
      "Epoch 38/50\n",
      "59/59 [==============================] - 8s 130ms/step - loss: 0.1466 - accuracy: 0.9456 - val_loss: 0.0568 - val_accuracy: 0.9660\n",
      "Epoch 39/50\n",
      "59/59 [==============================] - 7s 126ms/step - loss: 0.0706 - accuracy: 0.9796 - val_loss: 0.0998 - val_accuracy: 0.9524\n",
      "Epoch 40/50\n",
      "59/59 [==============================] - 7s 126ms/step - loss: 0.1463 - accuracy: 0.9490 - val_loss: 0.0381 - val_accuracy: 0.9864\n",
      "Epoch 41/50\n",
      "59/59 [==============================] - 9s 148ms/step - loss: 0.2248 - accuracy: 0.9388 - val_loss: 0.0119 - val_accuracy: 1.0000\n",
      "Epoch 42/50\n",
      "59/59 [==============================] - 8s 129ms/step - loss: 0.1627 - accuracy: 0.9524 - val_loss: 0.1207 - val_accuracy: 0.9524\n",
      "Epoch 43/50\n",
      "59/59 [==============================] - 7s 124ms/step - loss: 0.1399 - accuracy: 0.9558 - val_loss: 0.0146 - val_accuracy: 1.0000\n",
      "Epoch 44/50\n",
      "59/59 [==============================] - 8s 133ms/step - loss: 0.0438 - accuracy: 0.9864 - val_loss: 0.0543 - val_accuracy: 0.9864\n",
      "Epoch 45/50\n",
      "59/59 [==============================] - 8s 137ms/step - loss: 0.1616 - accuracy: 0.9388 - val_loss: 0.0368 - val_accuracy: 0.9864\n",
      "Epoch 46/50\n",
      "59/59 [==============================] - 8s 137ms/step - loss: 0.1239 - accuracy: 0.9626 - val_loss: 0.2938 - val_accuracy: 0.9116\n",
      "Epoch 47/50\n",
      "59/59 [==============================] - 8s 136ms/step - loss: 0.0758 - accuracy: 0.9762 - val_loss: 0.0385 - val_accuracy: 0.9864\n",
      "Epoch 48/50\n",
      "59/59 [==============================] - 8s 136ms/step - loss: 0.1175 - accuracy: 0.9762 - val_loss: 0.0029 - val_accuracy: 1.0000\n",
      "Epoch 49/50\n",
      "59/59 [==============================] - 8s 137ms/step - loss: 0.1327 - accuracy: 0.9796 - val_loss: 0.0213 - val_accuracy: 1.0000\n",
      "Epoch 50/50\n",
      "59/59 [==============================] - 8s 138ms/step - loss: 0.1269 - accuracy: 0.9728 - val_loss: 0.0061 - val_accuracy: 1.0000\n"
     ]
    }
   ],
   "source": [
    "# Compile a Model\n",
    "model.compile(\n",
    "    loss='binary_crossentropy',\n",
    "    optimizer=RMSprop(lr=1e-4),\n",
    "    metrics=['accuracy']\n",
    "    )   \n",
    "\n",
    "# Train the model\n",
    "history = model.fit(\n",
    "    train_generator,\n",
    "    epochs=50,\n",
    "    verbose=1,\n",
    "    validation_data=validation_generator,\n",
    "    callbacks=[tensorboard_callback]\n",
    "    )"
   ]
  },
  {
   "cell_type": "code",
   "execution_count": 7,
   "metadata": {},
   "outputs": [
    {
     "name": "stderr",
     "output_type": "stream",
     "text": [
      "c:\\Users\\ASUS\\AppData\\Local\\Programs\\Python\\Python311\\Lib\\site-packages\\keras-2.15.0-py3.11.egg\\keras\\src\\engine\\training.py:3103: UserWarning: You are saving your model as an HDF5 file via `model.save()`. This file format is considered legacy. We recommend using instead the native Keras format, e.g. `model.save('my_model.keras')`.\n",
      "  saving_api.save_model(\n"
     ]
    }
   ],
   "source": [
    "# Save the model to a file\n",
    "model.save('model_tomatoApple.h5')"
   ]
  },
  {
   "cell_type": "code",
   "execution_count": 8,
   "metadata": {},
   "outputs": [],
   "source": [
    "# Load the saved model\n",
    "load_model = tf.keras.models.load_model('model_tomatoApple.h5')"
   ]
  },
  {
   "cell_type": "code",
   "execution_count": 9,
   "metadata": {},
   "outputs": [
    {
     "name": "stdout",
     "output_type": "stream",
     "text": [
      "30/30 [==============================] - 1s 22ms/step - loss: 0.0061 - accuracy: 1.0000\n",
      "Test accuracy: 1.0\n"
     ]
    }
   ],
   "source": [
    "\n",
    "# Evaluate the loaded model with test data\n",
    "test_loss, test_acc = load_model.evaluate(validation_generator)\n",
    "print(f'Test accuracy: {test_acc}')"
   ]
  },
  {
   "cell_type": "code",
   "execution_count": 10,
   "metadata": {},
   "outputs": [
    {
     "data": {
      "image/png": "[encoded data removed]",
      "text/plain": [
       "<Figure size 640x480 with 1 Axes>"
      ]
     },
     "metadata": {},
     "output_type": "display_data"
    }
   ],
   "source": [
    "import matplotlib.pyplot as plt\n",
    "\n",
    "# Retrieve a list of list results on training and test data sets for each training epoch\n",
    "acc = history.history['accuracy']\n",
    "val_acc = history.history['val_accuracy']\n",
    "\n",
    "# Plot training and validation accuracy per epoch\n",
    "plt.plot(acc, label='Training Accuracy')\n",
    "plt.plot(val_acc, label='Validation Accuracy')\n",
    "plt.title('Training and Validation Accuracy')\n",
    "plt.xlabel('Epoch')\n",
    "plt.ylabel('Accuracy')\n",
    "plt.legend(loc='upper left')\n",
    "\n",
    "# Specify the directory and filename for saving the plot\n",
    "save_dir = '/SEMESTER 5/MATERI KULIAH SEMESTER 5/AI/2108107010076-Tugas2'  # Change to your desired directory\n",
    "save_filename = 'train_test_plot_tomatoApple.png'  # Change to your desired filename\n",
    "\n",
    "# Save the plot to the specified directory and filename\n",
    "plt.savefig(os.path.join(save_dir, save_filename))\n",
    "\n",
    "# Display the plot (optional)\n",
    "plt.show()\n"
   ]
  },
  {
   "cell_type": "code",
   "execution_count": 12,
   "metadata": {},
   "outputs": [
    {
     "name": "stdout",
     "output_type": "stream",
     "text": [
      "1/1 [==============================] - 0s 177ms/step\n",
      "The image is predicted as a tomato.\n"
     ]
    }
   ],
   "source": [
    "from keras.preprocessing import image\n",
    "from keras.models import load_model\n",
    "import numpy as np\n",
    "\n",
    "# Load your trained model (ensure the path is correct)\n",
    "model_path = '/SEMESTER 5/MATERI KULIAH SEMESTER 5/AI/2108107010076-Tugas2/model_tomatoApple.h5'\n",
    "loaded_model = load_model(model_path)\n",
    "\n",
    "def predict_image_class(image_path, model):\n",
    "    img = image.load_img(image_path, target_size=(150, 150))\n",
    "    x = image.img_to_array(img)\n",
    "    x = np.expand_dims(x, axis=0)\n",
    "    classes = model.predict(x)\n",
    "    return classes[0][0]\n",
    "\n",
    "def upload_and_predict():\n",
    "    image_path = input(\"Enter the file path of the image: \")\n",
    "    confidence = predict_image_class(image_path, loaded_model)\n",
    "    if confidence > 0.5:\n",
    "        print(\"The image is predicted as an apple.\")\n",
    "    else:\n",
    "        print(\"The image is predicted as a tomato.\")\n",
    "\n",
    "# Perform the image upload and prediction\n",
    "upload_and_predict()\n"
   ]
  }
 ],
 "metadata": {
  "kernelspec": {
   "display_name": "Python 3",
   "language": "python",
   "name": "python3"
  },
  "language_info": {
   "codemirror_mode": {
    "name": "ipython",
    "version": 3
   },
   "file_extension": ".py",
   "mimetype": "text/x-python",
   "name": "python",
   "nbconvert_exporter": "python",
   "pygments_lexer": "ipython3",
   "version": "3.11.5"
  }
 },
 "nbformat": 4,
 "nbformat_minor": 2
}
